{
 "cells": [
  {
   "cell_type": "markdown",
   "metadata": {},
   "source": [
    "## Chapter 1: Software and packages "
   ]
  },
  {
   "cell_type": "code",
   "execution_count": 1,
   "metadata": {},
   "outputs": [],
   "source": [
    "import numpy as np\n",
    "import cv2\n",
    "from matplotlib import pyplot as plt\n",
    "from copy import deepcopy"
   ]
  },
  {
   "cell_type": "markdown",
   "metadata": {},
   "source": [
    "## Chapter 2: Basic operations on images"
   ]
  },
  {
   "cell_type": "code",
   "execution_count": 2,
   "metadata": {},
   "outputs": [],
   "source": [
    "#2.1 Importing, drawing and displaying"
   ]
  },
  {
   "cell_type": "code",
   "execution_count": 2,
   "metadata": {},
   "outputs": [],
   "source": [
    "img=cv2.imread(\"im0.png\",1)"
   ]
  },
  {
   "cell_type": "code",
   "execution_count": 4,
   "metadata": {},
   "outputs": [
    {
     "data": {
      "text/plain": [
       "array([ 50,  76, 123], dtype=uint8)"
      ]
     },
     "execution_count": 4,
     "metadata": {},
     "output_type": "execute_result"
    }
   ],
   "source": [
    "img[0][0]"
   ]
  },
  {
   "cell_type": "code",
   "execution_count": 5,
   "metadata": {},
   "outputs": [
    {
     "data": {
      "text/plain": [
       "True"
      ]
     },
     "execution_count": 5,
     "metadata": {},
     "output_type": "execute_result"
    }
   ],
   "source": [
    "img[1,2]==93"
   ]
  },
  {
   "cell_type": "code",
   "execution_count": 2,
   "metadata": {},
   "outputs": [],
   "source": [
    "def wind(image):  \n",
    "    cv2.namedWindow(\"image\",cv2.WINDOW_NORMAL)\n",
    "    cv2.imshow(\"image\", image)\n",
    "    cv2.waitKey(0)\n",
    "    cv2.destroyAllWindows()"
   ]
  },
  {
   "cell_type": "code",
   "execution_count": 14,
   "metadata": {},
   "outputs": [],
   "source": [
    "wind(img)"
   ]
  },
  {
   "cell_type": "code",
   "execution_count": 7,
   "metadata": {},
   "outputs": [],
   "source": [
    "imgCol=cv2.imread(\"im0.png\",1)"
   ]
  },
  {
   "cell_type": "code",
   "execution_count": 17,
   "metadata": {},
   "outputs": [],
   "source": [
    "wind(imgCol)"
   ]
  },
  {
   "cell_type": "code",
   "execution_count": 28,
   "metadata": {},
   "outputs": [],
   "source": [
    "imgCol1=deepcopy(imgCol)\n",
    "circle=cv2.circle(imgCol1,(780,1280),350,(125,50,39),20)\n",
    "wind(circle)"
   ]
  },
  {
   "cell_type": "code",
   "execution_count": 12,
   "metadata": {},
   "outputs": [],
   "source": [
    "imgN1=cv2.imread(\"double1.png\",1)"
   ]
  },
  {
   "cell_type": "code",
   "execution_count": 30,
   "metadata": {},
   "outputs": [],
   "source": [
    "wind(imgN)"
   ]
  },
  {
   "cell_type": "code",
   "execution_count": 14,
   "metadata": {},
   "outputs": [],
   "source": [
    "imgN=deepcopy(imgN1)\n",
    "def click2circle(event,x,y,flags,param):\n",
    "    if event==cv2.EVENT_LBUTTONDBLCLK:\n",
    "        cv2.circle(imgN,(x,y),50,(255,0,0),4)\n",
    "\n",
    "cv2.namedWindow(\"differences\",cv2.WINDOW_NORMAL)\n",
    "cv2.setMouseCallback(\"differences\", click2circle)\n",
    "\n",
    "while True:\n",
    "    cv2.imshow(\"differences\",imgN)\n",
    "    a=cv2.waitKey(1)\n",
    "#    print(\"2 seconds\")\n",
    "    if a==27:\n",
    "        break\n",
    "cv2.destroyAllWindows()"
   ]
  },
  {
   "cell_type": "code",
   "execution_count": 13,
   "metadata": {},
   "outputs": [],
   "source": [
    "#2.2. Splitting channels, map algebra"
   ]
  },
  {
   "cell_type": "code",
   "execution_count": 18,
   "metadata": {},
   "outputs": [],
   "source": [
    "wind(imgCol)"
   ]
  },
  {
   "cell_type": "code",
   "execution_count": 19,
   "metadata": {},
   "outputs": [],
   "source": [
    "b,g,r=cv2.split(imgCol)"
   ]
  },
  {
   "cell_type": "code",
   "execution_count": 8,
   "metadata": {},
   "outputs": [],
   "source": [
    "a=1"
   ]
  },
  {
   "cell_type": "code",
   "execution_count": 23,
   "metadata": {},
   "outputs": [],
   "source": [
    "wind(r)"
   ]
  },
  {
   "cell_type": "code",
   "execution_count": 24,
   "metadata": {},
   "outputs": [],
   "source": [
    "wind(r-b)"
   ]
  },
  {
   "cell_type": "code",
   "execution_count": 25,
   "metadata": {},
   "outputs": [],
   "source": [
    "imgcol2=cv2.merge((b,g,r))"
   ]
  },
  {
   "cell_type": "code",
   "execution_count": 8,
   "metadata": {},
   "outputs": [],
   "source": [
    "#2.3. Resizing, cropping and exporting"
   ]
  },
  {
   "cell_type": "code",
   "execution_count": 9,
   "metadata": {},
   "outputs": [],
   "source": [
    "imgres=cv2.resize(imgCol,dsize=None,fx=0.2,fy=0.2,interpolation=cv2.INTER_CUBIC)"
   ]
  },
  {
   "cell_type": "code",
   "execution_count": 10,
   "metadata": {},
   "outputs": [],
   "source": [
    "cv2.imshow(\"window\",imgres)\n",
    "cv2.waitKey(0)\n",
    "cv2.destroyAllWindows()"
   ]
  },
  {
   "cell_type": "code",
   "execution_count": 11,
   "metadata": {},
   "outputs": [],
   "source": [
    "cropped=imgres[210:368,380:570]"
   ]
  },
  {
   "cell_type": "code",
   "execution_count": 12,
   "metadata": {},
   "outputs": [],
   "source": [
    "wind(cropped)"
   ]
  },
  {
   "cell_type": "code",
   "execution_count": 13,
   "metadata": {},
   "outputs": [
    {
     "data": {
      "text/plain": [
       "True"
      ]
     },
     "execution_count": 13,
     "metadata": {},
     "output_type": "execute_result"
    }
   ],
   "source": [
    "cv2.imwrite(\"wheel.png\",cropped)"
   ]
  },
  {
   "cell_type": "markdown",
   "metadata": {},
   "source": [
    "## Chapter 3: Geometric operations on images "
   ]
  },
  {
   "cell_type": "code",
   "execution_count": 14,
   "metadata": {},
   "outputs": [],
   "source": [
    "#3.1 Image gradients"
   ]
  },
  {
   "cell_type": "code",
   "execution_count": 15,
   "metadata": {},
   "outputs": [],
   "source": [
    "crops=cv2.imread(\"crops.png\",0)"
   ]
  },
  {
   "cell_type": "code",
   "execution_count": 18,
   "metadata": {},
   "outputs": [],
   "source": [
    "wind(crops)"
   ]
  },
  {
   "cell_type": "code",
   "execution_count": 19,
   "metadata": {},
   "outputs": [],
   "source": [
    "sobelx=cv2.Sobel(crops,cv2.CV_8U,1,0,ksize=3)"
   ]
  },
  {
   "cell_type": "code",
   "execution_count": 20,
   "metadata": {},
   "outputs": [],
   "source": [
    "wind(sobelx)"
   ]
  },
  {
   "cell_type": "code",
   "execution_count": 21,
   "metadata": {},
   "outputs": [],
   "source": [
    "laplacian=cv2.Laplacian(crops,cv2.CV_8U)\n",
    "wind(laplacian)"
   ]
  },
  {
   "cell_type": "code",
   "execution_count": 22,
   "metadata": {},
   "outputs": [],
   "source": [
    "#3.2. Edge and feature detection"
   ]
  },
  {
   "cell_type": "code",
   "execution_count": 23,
   "metadata": {},
   "outputs": [],
   "source": [
    "edges=cv2.Canny(crops,100,200)\n",
    "wind(edges)"
   ]
  },
  {
   "cell_type": "code",
   "execution_count": 3,
   "metadata": {},
   "outputs": [],
   "source": [
    "bbal=cv2.imread(\"basketball.jpg\",1)\n",
    "wind(bbal)"
   ]
  },
  {
   "cell_type": "code",
   "execution_count": 4,
   "metadata": {},
   "outputs": [],
   "source": [
    "edges=cv2.Canny(bbal,150,400)\n",
    "wind(edges)"
   ]
  },
  {
   "cell_type": "code",
   "execution_count": 7,
   "metadata": {},
   "outputs": [],
   "source": [
    "lines=cv2.HoughLines(edges,5,5*np.pi/180,200)"
   ]
  },
  {
   "cell_type": "code",
   "execution_count": 8,
   "metadata": {
    "scrolled": true
   },
   "outputs": [
    {
     "data": {
      "text/plain": [
       "array([[[ 2.8000000e+02,  0.0000000e+00]],\n",
       "\n",
       "       [[ 3.4000000e+02,  1.5707963e+00]],\n",
       "\n",
       "       [[ 0.0000000e+00,  1.5707963e+00]],\n",
       "\n",
       "       [[ 2.1000000e+02,  1.5707963e+00]],\n",
       "\n",
       "       [[ 3.2000000e+02,  1.5707963e+00]],\n",
       "\n",
       "       [[ 1.3000000e+02,  1.5707963e+00]],\n",
       "\n",
       "       [[ 9.5000000e+01,  1.8325957e+00]],\n",
       "\n",
       "       [[ 2.3000000e+02,  1.3962634e+00]],\n",
       "\n",
       "       [[ 1.3000000e+02,  1.7453291e+00]],\n",
       "\n",
       "       [[ 2.3000000e+02,  1.5707963e+00]],\n",
       "\n",
       "       [[ 2.0500000e+02,  1.3962634e+00]],\n",
       "\n",
       "       [[ 1.1000000e+02,  1.6580627e+00]],\n",
       "\n",
       "       [[ 2.4000000e+02,  1.3089969e+00]],\n",
       "\n",
       "       [[ 5.6000000e+02,  0.0000000e+00]],\n",
       "\n",
       "       [[ 2.2000000e+02,  1.4835298e+00]],\n",
       "\n",
       "       [[ 0.0000000e+00,  0.0000000e+00]],\n",
       "\n",
       "       [[-3.0000000e+01,  2.0943952e+00]],\n",
       "\n",
       "       [[ 1.6500000e+02,  1.4835298e+00]],\n",
       "\n",
       "       [[ 2.5000000e+02,  1.0471976e+00]],\n",
       "\n",
       "       [[ 4.5000000e+01,  2.0943952e+00]],\n",
       "\n",
       "       [[ 1.7500000e+02,  1.6580627e+00]],\n",
       "\n",
       "       [[-4.5000000e+01,  2.2689281e+00]],\n",
       "\n",
       "       [[ 2.1500000e+02,  1.3962634e+00]],\n",
       "\n",
       "       [[ 2.0000000e+02,  1.5707963e+00]],\n",
       "\n",
       "       [[ 1.7500000e+02,  1.4835298e+00]],\n",
       "\n",
       "       [[ 1.6000000e+02,  1.5707963e+00]],\n",
       "\n",
       "       [[ 2.3500000e+02,  1.4835298e+00]],\n",
       "\n",
       "       [[ 2.5000000e+02,  1.3089969e+00]],\n",
       "\n",
       "       [[ 3.1500000e+02,  8.7266457e-01]],\n",
       "\n",
       "       [[ 3.2500000e+02,  1.0471976e+00]],\n",
       "\n",
       "       [[ 3.1500000e+02,  1.1344640e+00]],\n",
       "\n",
       "       [[-5.5000000e+01,  2.2689281e+00]],\n",
       "\n",
       "       [[ 1.8500000e+02,  1.6580627e+00]],\n",
       "\n",
       "       [[ 3.0500000e+02,  8.7266457e-01]],\n",
       "\n",
       "       [[ 1.8000000e+02,  1.5707963e+00]],\n",
       "\n",
       "       [[ 9.5000000e+01,  2.0071285e+00]],\n",
       "\n",
       "       [[ 1.7000000e+02,  1.8325957e+00]],\n",
       "\n",
       "       [[-1.0000000e+01,  1.9198622e+00]],\n",
       "\n",
       "       [[ 2.1500000e+02,  1.1344640e+00]],\n",
       "\n",
       "       [[ 1.4500000e+02,  1.5707963e+00]],\n",
       "\n",
       "       [[ 1.4000000e+02,  1.9198622e+00]],\n",
       "\n",
       "       [[ 7.5000000e+01,  2.0071285e+00]],\n",
       "\n",
       "       [[-5.0000000e+00,  2.0071285e+00]],\n",
       "\n",
       "       [[ 2.3000000e+02,  1.1344640e+00]],\n",
       "\n",
       "       [[ 1.0000000e+01,  1.8325957e+00]],\n",
       "\n",
       "       [[-7.0000000e+01,  2.3561945e+00]],\n",
       "\n",
       "       [[-2.0000000e+01,  2.0071285e+00]],\n",
       "\n",
       "       [[ 2.5000000e+01,  1.5707963e+00]],\n",
       "\n",
       "       [[ 3.3000000e+02,  1.3089969e+00]],\n",
       "\n",
       "       [[ 4.3500000e+02,  0.0000000e+00]],\n",
       "\n",
       "       [[ 0.0000000e+00,  1.8325957e+00]],\n",
       "\n",
       "       [[ 2.8000000e+02,  9.5993108e-01]],\n",
       "\n",
       "       [[ 1.8500000e+02,  1.8325957e+00]],\n",
       "\n",
       "       [[ 2.0000000e+02,  1.2217305e+00]],\n",
       "\n",
       "       [[ 0.0000000e+00,  2.1816616e+00]],\n",
       "\n",
       "       [[ 2.9500000e+02,  1.2217305e+00]],\n",
       "\n",
       "       [[ 2.0500000e+02,  1.7453291e+00]],\n",
       "\n",
       "       [[-8.5000000e+01,  2.3561945e+00]],\n",
       "\n",
       "       [[ 1.4500000e+02,  1.3089969e+00]],\n",
       "\n",
       "       [[ 1.8000000e+02,  1.2217305e+00]],\n",
       "\n",
       "       [[-9.5000000e+01,  2.5307274e+00]],\n",
       "\n",
       "       [[ 3.5000000e+01,  1.7453291e+00]],\n",
       "\n",
       "       [[ 5.0000000e+01,  1.9198622e+00]],\n",
       "\n",
       "       [[ 1.6000000e+02,  1.3089969e+00]],\n",
       "\n",
       "       [[ 6.5000000e+01,  2.0071285e+00]],\n",
       "\n",
       "       [[ 2.8500000e+02,  5.2359879e-01]],\n",
       "\n",
       "       [[-1.2500000e+02,  2.4434609e+00]],\n",
       "\n",
       "       [[ 3.0000000e+02,  6.9813168e-01]],\n",
       "\n",
       "       [[ 3.2000000e+02,  1.3089969e+00]],\n",
       "\n",
       "       [[ 1.7000000e+02,  1.0471976e+00]],\n",
       "\n",
       "       [[ 3.4500000e+02,  6.9813168e-01]],\n",
       "\n",
       "       [[ 3.2500000e+02,  7.8539813e-01]],\n",
       "\n",
       "       [[ 3.1000000e+02,  1.3089969e+00]],\n",
       "\n",
       "       [[ 2.5500000e+02,  1.4835298e+00]],\n",
       "\n",
       "       [[ 2.5000000e+01,  1.9198622e+00]],\n",
       "\n",
       "       [[-1.6500000e+02,  2.5307274e+00]],\n",
       "\n",
       "       [[ 7.0000000e+01,  1.6580627e+00]],\n",
       "\n",
       "       [[ 2.7000000e+02,  1.2217305e+00]],\n",
       "\n",
       "       [[-2.0000000e+02,  2.6179938e+00]],\n",
       "\n",
       "       [[ 2.9500000e+02,  6.1086524e-01]],\n",
       "\n",
       "       [[ 3.7500000e+02,  5.2359879e-01]],\n",
       "\n",
       "       [[ 3.6500000e+02,  6.1086524e-01]],\n",
       "\n",
       "       [[ 1.5500000e+02,  1.8325957e+00]],\n",
       "\n",
       "       [[-7.5000000e+01,  2.0071285e+00]]], dtype=float32)"
      ]
     },
     "execution_count": 8,
     "metadata": {},
     "output_type": "execute_result"
    }
   ],
   "source": [
    "lines"
   ]
  },
  {
   "cell_type": "code",
   "execution_count": 33,
   "metadata": {},
   "outputs": [],
   "source": [
    "for iterator in lines:\n",
    "    rho=iterator[0][0]\n",
    "    theta=iterator[0][1]\n",
    "    a=np.cos(theta)\n",
    "    b=np.sin(theta)\n",
    "    x0=a*rho\n",
    "    y0=b*rho\n",
    "    x1=int(x0+1000*(-b))\n",
    "    y1=int(y0+1000*(a))\n",
    "    x2=int(x0-1000*(-b))\n",
    "    y2=int(y0-1000*(a))\n",
    "    cv2.line(bbal,(x1,y1),(x2,y2),(0,0,255),2)"
   ]
  },
  {
   "cell_type": "code",
   "execution_count": 34,
   "metadata": {},
   "outputs": [],
   "source": [
    "wind(bbal)"
   ]
  },
  {
   "cell_type": "code",
   "execution_count": 43,
   "metadata": {},
   "outputs": [],
   "source": [
    "#3.3. A simple geocomputation application"
   ]
  },
  {
   "cell_type": "code",
   "execution_count": 44,
   "metadata": {},
   "outputs": [],
   "source": [
    "imgN1=cv2.imread(\"double.png\",1)"
   ]
  },
  {
   "cell_type": "code",
   "execution_count": 45,
   "metadata": {},
   "outputs": [],
   "source": [
    "wind(imgN1)"
   ]
  },
  {
   "cell_type": "code",
   "execution_count": 46,
   "metadata": {},
   "outputs": [],
   "source": [
    "diffs=np.array([[538,109],[1203,739],[758,137],[1240,467]])"
   ]
  },
  {
   "cell_type": "code",
   "execution_count": 47,
   "metadata": {},
   "outputs": [],
   "source": [
    "def euclid(x1,x2,y1,y2):\n",
    "    return int(np.sqrt((x1-x2)**2+(y1-y2)**2))"
   ]
  },
  {
   "cell_type": "code",
   "execution_count": null,
   "metadata": {},
   "outputs": [],
   "source": []
  },
  {
   "cell_type": "code",
   "execution_count": 48,
   "metadata": {},
   "outputs": [],
   "source": [
    "imgN=deepcopy(imgN1)\n",
    "def click2circle(event,x,y,flags,param):\n",
    "    if event==cv2.EVENT_LBUTTONDBLCLK:\n",
    "        for diff in diffs:\n",
    "            if euclid(x,diff[0],y,diff[1])<15:\n",
    "                cv2.circle(imgN,(x,y),50,(255,0,0),4)\n",
    "\n",
    "cv2.namedWindow(\"differences\",cv2.WINDOW_NORMAL)\n",
    "cv2.setMouseCallback(\"differences\", click2circle)\n",
    "\n",
    "while True:\n",
    "    cv2.imshow(\"differences\",imgN)\n",
    "    a=cv2.waitKey(1)\n",
    "#    print(\"2 seconds\")\n",
    "    if a==27:\n",
    "        break\n",
    "cv2.destroyAllWindows()"
   ]
  },
  {
   "cell_type": "markdown",
   "metadata": {},
   "source": [
    "## Chapter 4: Radiometric operations on images "
   ]
  },
  {
   "cell_type": "code",
   "execution_count": 51,
   "metadata": {},
   "outputs": [],
   "source": [
    "#4.1. Image colorspace and thresholding"
   ]
  },
  {
   "cell_type": "code",
   "execution_count": 52,
   "metadata": {},
   "outputs": [],
   "source": [
    "hsv=cv2.cvtColor(imgN1,cv2.COLOR_BGR2HSV)"
   ]
  },
  {
   "cell_type": "code",
   "execution_count": 53,
   "metadata": {},
   "outputs": [],
   "source": [
    "wind(hsv)"
   ]
  },
  {
   "cell_type": "code",
   "execution_count": 54,
   "metadata": {},
   "outputs": [],
   "source": [
    "gray=cv2.cvtColor(imgN1,cv2.COLOR_BGR2GRAY)"
   ]
  },
  {
   "cell_type": "code",
   "execution_count": 55,
   "metadata": {},
   "outputs": [],
   "source": [
    "wind(gray)"
   ]
  },
  {
   "cell_type": "code",
   "execution_count": 56,
   "metadata": {},
   "outputs": [],
   "source": [
    "r,t=cv2.threshold(gray,100,255,cv2.THRESH_BINARY)"
   ]
  },
  {
   "cell_type": "code",
   "execution_count": 57,
   "metadata": {},
   "outputs": [
    {
     "data": {
      "text/plain": [
       "100.0"
      ]
     },
     "execution_count": 57,
     "metadata": {},
     "output_type": "execute_result"
    }
   ],
   "source": [
    "r"
   ]
  },
  {
   "cell_type": "code",
   "execution_count": 58,
   "metadata": {},
   "outputs": [
    {
     "data": {
      "text/plain": [
       "array([[  0,   0,   0, ..., 255, 255, 255],\n",
       "       [  0,   0,   0, ...,   0,   0,   0],\n",
       "       [  0,   0,   0, ...,   0,   0,   0],\n",
       "       ...,\n",
       "       [255, 255, 255, ..., 255, 255, 255],\n",
       "       [255, 255, 255, ..., 255, 255, 255],\n",
       "       [255, 255, 255, ..., 255, 255, 255]], dtype=uint8)"
      ]
     },
     "execution_count": 58,
     "metadata": {},
     "output_type": "execute_result"
    }
   ],
   "source": [
    "t"
   ]
  },
  {
   "cell_type": "code",
   "execution_count": 59,
   "metadata": {},
   "outputs": [],
   "source": [
    "wind(t)"
   ]
  },
  {
   "cell_type": "code",
   "execution_count": 3,
   "metadata": {},
   "outputs": [],
   "source": [
    "#4.2. Image histogram"
   ]
  },
  {
   "cell_type": "code",
   "execution_count": 3,
   "metadata": {},
   "outputs": [],
   "source": [
    "lena=cv2.imread(\"lena.jpg\",0)"
   ]
  },
  {
   "cell_type": "code",
   "execution_count": 5,
   "metadata": {},
   "outputs": [],
   "source": [
    "wind(lena)"
   ]
  },
  {
   "cell_type": "code",
   "execution_count": 4,
   "metadata": {},
   "outputs": [],
   "source": [
    "hist=cv2.calcHist([lena],[0],None,[256],[0,256])"
   ]
  },
  {
   "cell_type": "code",
   "execution_count": 5,
   "metadata": {},
   "outputs": [],
   "source": [
    "xaxis=np.arange(256).reshape(256,1)"
   ]
  },
  {
   "cell_type": "code",
   "execution_count": 6,
   "metadata": {},
   "outputs": [],
   "source": [
    "histogram=np.hstack((xaxis,hist)).astype(int)"
   ]
  },
  {
   "cell_type": "code",
   "execution_count": 10,
   "metadata": {},
   "outputs": [
    {
     "data": {
      "text/plain": [
       "<function matplotlib.pyplot.show>"
      ]
     },
     "execution_count": 10,
     "metadata": {},
     "output_type": "execute_result"
    },
    {
     "data": {
      "image/png": "[encoded data removed]",
      "text/plain": [
       "<Figure size 432x288 with 1 Axes>"
      ]
     },
     "metadata": {},
     "output_type": "display_data"
    }
   ],
   "source": [
    "plt.hist(lena.flatten(),256,[0,256])\n",
    "plt.show"
   ]
  },
  {
   "cell_type": "code",
   "execution_count": 15,
   "metadata": {},
   "outputs": [],
   "source": [
    "equ=cv2.equalizeHist(lena)"
   ]
  },
  {
   "cell_type": "code",
   "execution_count": 16,
   "metadata": {},
   "outputs": [],
   "source": [
    "wind(equ)"
   ]
  },
  {
   "cell_type": "code",
   "execution_count": 17,
   "metadata": {},
   "outputs": [],
   "source": [
    "res=np.hstack((lena,equ))"
   ]
  },
  {
   "cell_type": "code",
   "execution_count": 18,
   "metadata": {},
   "outputs": [],
   "source": [
    "wind(res)"
   ]
  },
  {
   "cell_type": "code",
   "execution_count": 19,
   "metadata": {},
   "outputs": [],
   "source": [
    "#4.3. Convolution based operations"
   ]
  },
  {
   "cell_type": "code",
   "execution_count": 20,
   "metadata": {},
   "outputs": [],
   "source": [
    "blur=cv2.blur(lena,(7,7))\n",
    "wind(blur)"
   ]
  },
  {
   "cell_type": "code",
   "execution_count": 22,
   "metadata": {},
   "outputs": [],
   "source": [
    "blurG=cv2.GaussianBlur(lena,(11,11),0)\n",
    "wind(blurG)"
   ]
  },
  {
   "cell_type": "code",
   "execution_count": 23,
   "metadata": {},
   "outputs": [],
   "source": [
    "res=np.hstack((lena,blurG))"
   ]
  },
  {
   "cell_type": "code",
   "execution_count": 24,
   "metadata": {},
   "outputs": [],
   "source": [
    "wind(res)"
   ]
  },
  {
   "cell_type": "code",
   "execution_count": 25,
   "metadata": {},
   "outputs": [],
   "source": [
    "#4.4. k-means classification"
   ]
  },
  {
   "cell_type": "code",
   "execution_count": 3,
   "metadata": {},
   "outputs": [],
   "source": [
    "img=cv2.imread(\"im0.png\",1)\n",
    "#wind(img)"
   ]
  },
  {
   "cell_type": "code",
   "execution_count": 4,
   "metadata": {},
   "outputs": [],
   "source": [
    "imgCL=np.float32(img.reshape((-1,3)))"
   ]
  },
  {
   "cell_type": "code",
   "execution_count": 7,
   "metadata": {},
   "outputs": [],
   "source": [
    "imgCL=np.float32(img.reshape((-1,3)))\n",
    "criteria=(cv2.TERM_CRITERIA_EPS+cv2.TERM_CRITERIA_MAX_ITER,15,1.0)\n",
    "K=4\n",
    "ret,lab,center=cv2.kmeans(imgCL,K,None,criteria,10,cv2.KMEANS_RANDOM_CENTERS)\n",
    "#center=np.uint8(center)\n",
    "#res=center[lab.flatten()]\n",
    "#res2=res.reshape((img.shape))\n",
    "#wind(res2)"
   ]
  },
  {
   "cell_type": "markdown",
   "metadata": {},
   "source": [
    "## Chapter 5: An Earth Observation application "
   ]
  },
  {
   "cell_type": "code",
   "execution_count": 37,
   "metadata": {},
   "outputs": [],
   "source": [
    "pathB=\"C:/Users/thalia/Documents/1OpenCV course/code/before/\"\n",
    "pathA=\"C:/Users/thalia/Documents/1OpenCV course/code/after/\""
   ]
  },
  {
   "cell_type": "code",
   "execution_count": 48,
   "metadata": {},
   "outputs": [],
   "source": [
    "BEF=[]\n",
    "AFT=[]\n",
    "for i in range(1,8):\n",
    "    BEF.append(cv2.imread(pathB+\"B\"+str(i)+\".tif\",0)[4200:4700,2900:3500])\n",
    "    AFT.append(cv2.imread(pathA+\"B\"+str(i)+\".tif\",0)[4200:4700,2900:3500])"
   ]
  },
  {
   "cell_type": "code",
   "execution_count": 53,
   "metadata": {},
   "outputs": [],
   "source": [
    "BEF32=[]\n",
    "AFT32=[]\n",
    "for i in range(7):\n",
    "    BEF32.append(np.float32(cv2.equalizeHist(BEF[i])))\n",
    "    AFT32.append(np.float32(cv2.equalizeHist(AFT[i])))"
   ]
  },
  {
   "cell_type": "code",
   "execution_count": 56,
   "metadata": {},
   "outputs": [],
   "source": [
    "before=cv2.merge((BEF32[0],BEF32[1],BEF32[2],BEF32[3],BEF32[4],BEF32[5],BEF32[6]))"
   ]
  },
  {
   "cell_type": "code",
   "execution_count": 72,
   "metadata": {},
   "outputs": [],
   "source": [
    "beforeReady=before.reshape((-1,7))\n",
    "criteria=(cv2.TERM_CRITERIA_EPS+cv2.TERM_CRITERIA_MAX_ITER,30,1)\n",
    "ret,label,center=cv2.kmeans(beforeReady,6,None,criteria,10,cv2.KMEANS_RANDOM_CENTERS)\n",
    "center=np.uint8(center)\n",
    "res=center[label.flatten()]\n",
    "res2=res.reshape((before.shape))"
   ]
  },
  {
   "cell_type": "code",
   "execution_count": 75,
   "metadata": {},
   "outputs": [],
   "source": [
    "beforeF=deepcopy(res2[:][:,:,:3])"
   ]
  },
  {
   "cell_type": "code",
   "execution_count": 76,
   "metadata": {},
   "outputs": [],
   "source": [
    "wind(beforeF)"
   ]
  },
  {
   "cell_type": "code",
   "execution_count": null,
   "metadata": {},
   "outputs": [],
   "source": []
  },
  {
   "cell_type": "code",
   "execution_count": 77,
   "metadata": {},
   "outputs": [],
   "source": [
    "after=cv2.merge((AFT32[0],AFT32[1],AFT32[2],AFT32[3],AFT32[4],AFT32[5],AFT32[6]))"
   ]
  },
  {
   "cell_type": "code",
   "execution_count": 78,
   "metadata": {},
   "outputs": [],
   "source": [
    "afterReady=after.reshape((-1,7))\n",
    "criteria=(cv2.TERM_CRITERIA_EPS+cv2.TERM_CRITERIA_MAX_ITER,30,1)\n",
    "ret,label,center=cv2.kmeans(afterReady,6,None,criteria,10,cv2.KMEANS_RANDOM_CENTERS)\n",
    "center=np.uint8(center)\n",
    "res=center[label.flatten()]\n",
    "res2=res.reshape((after.shape))\n",
    "afterF=deepcopy(res2[:][:,:,:3])"
   ]
  },
  {
   "cell_type": "code",
   "execution_count": 79,
   "metadata": {},
   "outputs": [],
   "source": [
    "wind(afterF)"
   ]
  },
  {
   "cell_type": "code",
   "execution_count": 80,
   "metadata": {},
   "outputs": [],
   "source": [
    "beforeafter=np.hstack((beforeF,afterF))\n",
    "wind(beforeafter)"
   ]
  },
  {
   "cell_type": "code",
   "execution_count": 82,
   "metadata": {},
   "outputs": [
    {
     "name": "stdout",
     "output_type": "stream",
     "text": [
      "Total burned area: 29994300 square meters\n",
      "Forest burned area: 20204100 square meters\n"
     ]
    }
   ],
   "source": [
    "d=0;q=0\n",
    "for i in range(len(afterF)):\n",
    "    for j in range(len(afterF[i])):\n",
    "        if np.sum(afterF[i][j])==510:\n",
    "            d+=1\n",
    "            if (np.sum(beforeF[i][j])==369 or np.sum(beforeF[i][j])==251):\n",
    "                q+=1\n",
    "print (\"Total burned area:\",d*900,\"square meters\")\n",
    "print (\"Forest burned area:\",q*900,\"square meters\")"
   ]
  },
  {
   "cell_type": "code",
   "execution_count": null,
   "metadata": {},
   "outputs": [],
   "source": []
  }
 ],
 "metadata": {
  "kernelspec": {
   "display_name": "Python 3",
   "language": "python",
   "name": "python3"
  },
  "language_info": {
   "codemirror_mode": {
    "name": "ipython",
    "version": 3
   },
   "file_extension": ".py",
   "mimetype": "text/x-python",
   "name": "python",
   "nbconvert_exporter": "python",
   "pygments_lexer": "ipython3",
   "version": "3.8.5"
  }
 },
 "nbformat": 4,
 "nbformat_minor": 2
}
